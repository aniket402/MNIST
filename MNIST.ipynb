{
 "cells": [
  {
   "cell_type": "code",
   "execution_count": 125,
   "metadata": {},
   "outputs": [
    {
     "name": "stdout",
     "output_type": "stream",
     "text": [
      "Extracting MNIST_data/train-images-idx3-ubyte.gz\n",
      "Extracting MNIST_data/train-labels-idx1-ubyte.gz\n",
      "Extracting MNIST_data/t10k-images-idx3-ubyte.gz\n",
      "Extracting MNIST_data/t10k-labels-idx1-ubyte.gz\n"
     ]
    }
   ],
   "source": [
    "# MNIST is the most common dataset used for image classification.\n",
    "\n",
    "import tensorflow as tf\n",
    "from tensorflow.examples.tutorials.mnist import input_data\n",
    "mnist=input_data.read_data_sets('MNIST_data/',one_hot=True)"
   ]
  },
  {
   "cell_type": "code",
   "execution_count": 126,
   "metadata": {},
   "outputs": [
    {
     "data": {
      "text/plain": [
       "Datasets(train=<tensorflow.contrib.learn.python.learn.datasets.mnist.DataSet object at 0x000002188BBA8348>, validation=<tensorflow.contrib.learn.python.learn.datasets.mnist.DataSet object at 0x000002188B8DDDC8>, test=<tensorflow.contrib.learn.python.learn.datasets.mnist.DataSet object at 0x000002188BB35188>)"
      ]
     },
     "execution_count": 126,
     "metadata": {},
     "output_type": "execute_result"
    }
   ],
   "source": [
    "mnist"
   ]
  },
  {
   "cell_type": "code",
   "execution_count": 127,
   "metadata": {},
   "outputs": [
    {
     "data": {
      "text/plain": [
       "(55000, 784)"
      ]
     },
     "execution_count": 127,
     "metadata": {},
     "output_type": "execute_result"
    }
   ],
   "source": [
    "# training dataset\n",
    "# 55000 images\n",
    "# each image has 784 features\n",
    "\n",
    "mnist.train.images.shape"
   ]
  },
  {
   "cell_type": "code",
   "execution_count": 128,
   "metadata": {},
   "outputs": [
    {
     "data": {
      "text/plain": [
       "(55000, 10)"
      ]
     },
     "execution_count": 128,
     "metadata": {},
     "output_type": "execute_result"
    }
   ],
   "source": [
    "# y label i.e. the output\n",
    "\n",
    "mnist.train.labels.shape"
   ]
  },
  {
   "cell_type": "code",
   "execution_count": 129,
   "metadata": {},
   "outputs": [
    {
     "data": {
      "text/plain": [
       "array([[0., 0., 0., ..., 1., 0., 0.],\n",
       "       [0., 0., 0., ..., 0., 0., 0.],\n",
       "       [0., 0., 0., ..., 0., 0., 0.],\n",
       "       ...,\n",
       "       [0., 0., 0., ..., 0., 0., 0.],\n",
       "       [0., 0., 0., ..., 0., 0., 0.],\n",
       "       [0., 0., 0., ..., 0., 1., 0.]])"
      ]
     },
     "execution_count": 129,
     "metadata": {},
     "output_type": "execute_result"
    }
   ],
   "source": [
    "mnist.train.labels\n",
    "\n",
    "# value in the labels\n",
    "# the output is one hot encoded"
   ]
  },
  {
   "cell_type": "code",
   "execution_count": 130,
   "metadata": {},
   "outputs": [
    {
     "data": {
      "image/png": "[encoded data removed]",
      "text/plain": [
       "<Figure size 432x288 with 1 Axes>"
      ]
     },
     "metadata": {
      "needs_background": "light"
     },
     "output_type": "display_data"
    }
   ],
   "source": [
    "# plotting an image\n",
    "\n",
    "import numpy as np\n",
    "import matplotlib.pyplot as plt\n",
    "\n",
    "first_image = mnist.train.images[5]\n",
    "first_image = np.array(first_image,dtype='float')\n",
    "\n",
    "# each image is 28*28 pixel and each feature represents one pixel intensity\n",
    "# reshaping those 784 pixels to 28*28 pixel image\n",
    "\n",
    "first_image = first_image.reshape((28,28))\n",
    "plt.imshow(first_image)\n",
    "plt.show()"
   ]
  },
  {
   "cell_type": "code",
   "execution_count": 131,
   "metadata": {},
   "outputs": [
    {
     "data": {
      "text/plain": [
       "array([[-1.1384568, -1.9958551]], dtype=float32)"
      ]
     },
     "execution_count": 131,
     "metadata": {},
     "output_type": "execute_result"
    }
   ],
   "source": [
    "a = tf.random_normal([1,2])\n",
    "sess = tf.Session()\n",
    "sess.run(a)"
   ]
  },
  {
   "cell_type": "code",
   "execution_count": 132,
   "metadata": {},
   "outputs": [],
   "source": [
    "# creating the neural network\n",
    "\n",
    "# each image has 784 features, so input layer will have 784 units\n",
    "n_input = 784\n",
    "n_hidden1 = 256\n",
    "n_hidden2 = 256\n",
    "n_classes = 10\n",
    "\n",
    "\n",
    "weights = {'h1':tf.Variable(tf.random_normal([n_input,n_hidden1])),\n",
    "           'h2':tf.Variable(tf.random_normal([n_hidden1,n_hidden2])),\n",
    "           'output':tf.Variable(tf.random_normal([n_hidden2,n_classes]))\n",
    "           }\n",
    "\n",
    "biases = {'h1':tf.Variable(tf.random_normal([n_hidden1])),\n",
    "         'h2':tf.Variable(tf.random_normal([n_hidden2])),\n",
    "         'output':tf.Variable(tf.random_normal([n_classes]))\n",
    "         }"
   ]
  },
  {
   "cell_type": "code",
   "execution_count": 133,
   "metadata": {},
   "outputs": [],
   "source": [
    "# defining function for forward propagation\n",
    "\n",
    "def forward_propagation(x,weights,biases):\n",
    "    \n",
    "    in_layer1 = tf.add((tf.matmul(x,weights['h1'])),biases['h1'])\n",
    "    out_layer1 = tf.nn.relu(in_layer1)\n",
    "    \n",
    "    in_layer2 = tf.add((tf.matmul(out_layer1,weights['h2'])),biases['h2'])\n",
    "    out_layer2 = tf.nn.relu(in_layer2)\n",
    "    \n",
    "    output = tf.add((tf.matmul(out_layer2,weights['output'])),biases['output'])\n",
    "    return output"
   ]
  },
  {
   "cell_type": "code",
   "execution_count": 134,
   "metadata": {},
   "outputs": [],
   "source": [
    "sess = tf.Session()\n",
    "sess.run(tf.global_variables_initializer())\n",
    "\n",
    "x = tf.placeholder('float',(None,n_input))\n",
    "y = tf.placeholder(tf.int32,(None,n_classes))\n",
    "pred = forward_propagation(x, weights, biases)\n",
    "\n",
    "predictions = tf.argmax(pred,1)\n",
    "true_labels = tf.argmax(y,1)"
   ]
  },
  {
   "cell_type": "code",
   "execution_count": 135,
   "metadata": {},
   "outputs": [
    {
     "data": {
      "text/plain": [
       "(array([4, 3, 0, ..., 0, 4, 0], dtype=int64),\n",
       " array([7, 2, 1, ..., 4, 5, 6], dtype=int64))"
      ]
     },
     "execution_count": 135,
     "metadata": {},
     "output_type": "execute_result"
    }
   ],
   "source": [
    "# finding the predictions\n",
    "# also evaluating the true test labels\n",
    "\n",
    "predictions_eval,labels = sess.run([predictions,true_labels],feed_dict={x:mnist.test.images,y:mnist.test.labels})\n",
    "predictions_eval,labels"
   ]
  },
  {
   "cell_type": "code",
   "execution_count": 136,
   "metadata": {},
   "outputs": [],
   "source": [
    "correct_predictions = tf.equal(predictions_eval,labels)\n",
    "correct_pred = sess.run(correct_predictions)"
   ]
  },
  {
   "cell_type": "code",
   "execution_count": 137,
   "metadata": {},
   "outputs": [
    {
     "data": {
      "text/plain": [
       "521"
      ]
     },
     "execution_count": 137,
     "metadata": {},
     "output_type": "execute_result"
    }
   ],
   "source": [
    "correct_pred.sum()\n",
    "\n",
    "# so out of 10k images in test data, our NN predicts correctly for 1006 images"
   ]
  },
  {
   "cell_type": "code",
   "execution_count": 138,
   "metadata": {},
   "outputs": [
    {
     "data": {
      "text/plain": [
       "(array([2, 0, 1, ..., 5, 4, 4], dtype=int64),\n",
       " array([7, 3, 4, ..., 5, 6, 8], dtype=int64),\n",
       " array([False, False, False, ...,  True, False, False]))"
      ]
     },
     "execution_count": 138,
     "metadata": {},
     "output_type": "execute_result"
    }
   ],
   "source": [
    "## checking for training data\n",
    "\n",
    "correct_predictions = tf.equal(predictions, true_labels)\n",
    "predictions_eval, label, correct_pred = sess.run([predictions,true_labels,correct_predictions],feed_dict={x:mnist.train.images,y:mnist.train.labels})\n",
    "predictions_eval, label, correct_pred"
   ]
  },
  {
   "cell_type": "code",
   "execution_count": 139,
   "metadata": {},
   "outputs": [
    {
     "data": {
      "text/plain": [
       "3069"
      ]
     },
     "execution_count": 139,
     "metadata": {},
     "output_type": "execute_result"
    }
   ],
   "source": [
    "correct_pred.sum()\n",
    "# so out of 55k training images, our NN predicts correctly for 4163 images."
   ]
  },
  {
   "cell_type": "code",
   "execution_count": 140,
   "metadata": {},
   "outputs": [],
   "source": [
    "# adding soft max layer\n",
    "# and calculating the loss using cross entropy loss function\n",
    "# cost is the average of the loss function for the entire training/testing data\n",
    "cost = tf.reduce_mean(tf.nn.softmax_cross_entropy_with_logits(logits = pred,labels = y))"
   ]
  },
  {
   "cell_type": "code",
   "execution_count": 141,
   "metadata": {},
   "outputs": [],
   "source": [
    "# Now, we have to optimise the cost by changing the weights\n",
    "# use an inbuilt optimiser\n",
    "optimizer = tf.train.AdamOptimizer(learning_rate = 0.01)\n",
    "optimize = optimizer.minimize(cost)"
   ]
  },
  {
   "cell_type": "code",
   "execution_count": 142,
   "metadata": {},
   "outputs": [],
   "source": [
    "sess = tf.Session()\n",
    "sess.run(tf.global_variables_initializer())"
   ]
  },
  {
   "cell_type": "code",
   "execution_count": 143,
   "metadata": {},
   "outputs": [
    {
     "data": {
      "text/plain": [
       "1487.2163"
      ]
     },
     "execution_count": 143,
     "metadata": {},
     "output_type": "execute_result"
    }
   ],
   "source": [
    "c = sess.run(cost,feed_dict={x:mnist.train.images,y:mnist.train.labels})\n",
    "c"
   ]
  },
  {
   "cell_type": "code",
   "execution_count": 144,
   "metadata": {},
   "outputs": [
    {
     "data": {
      "text/plain": [
       "1487.2163"
      ]
     },
     "execution_count": 144,
     "metadata": {},
     "output_type": "execute_result"
    }
   ],
   "source": [
    "c,_ = sess.run([cost,optimize],feed_dict={x:mnist.train.images,y:mnist.train.labels})\n",
    "c"
   ]
  },
  {
   "cell_type": "code",
   "execution_count": 145,
   "metadata": {},
   "outputs": [
    {
     "data": {
      "text/plain": [
       "[<tf.Variable 'Variable:0' shape=(784, 256) dtype=float32_ref>,\n",
       " <tf.Variable 'Variable_1:0' shape=(256, 256) dtype=float32_ref>,\n",
       " <tf.Variable 'Variable_2:0' shape=(256, 10) dtype=float32_ref>,\n",
       " <tf.Variable 'Variable_3:0' shape=(256,) dtype=float32_ref>,\n",
       " <tf.Variable 'Variable_4:0' shape=(256,) dtype=float32_ref>,\n",
       " <tf.Variable 'Variable_5:0' shape=(10,) dtype=float32_ref>,\n",
       " <tf.Variable 'Variable_6:0' shape=(784, 256) dtype=float32_ref>,\n",
       " <tf.Variable 'Variable_7:0' shape=(256, 256) dtype=float32_ref>,\n",
       " <tf.Variable 'Variable_8:0' shape=(256, 10) dtype=float32_ref>,\n",
       " <tf.Variable 'Variable_9:0' shape=(256,) dtype=float32_ref>,\n",
       " <tf.Variable 'Variable_10:0' shape=(256,) dtype=float32_ref>,\n",
       " <tf.Variable 'Variable_11:0' shape=(10,) dtype=float32_ref>,\n",
       " <tf.Variable 'Variable_12:0' shape=(784, 256) dtype=float32_ref>,\n",
       " <tf.Variable 'Variable_13:0' shape=(256, 256) dtype=float32_ref>,\n",
       " <tf.Variable 'Variable_14:0' shape=(256, 10) dtype=float32_ref>,\n",
       " <tf.Variable 'Variable_15:0' shape=(256,) dtype=float32_ref>,\n",
       " <tf.Variable 'Variable_16:0' shape=(256,) dtype=float32_ref>,\n",
       " <tf.Variable 'Variable_17:0' shape=(10,) dtype=float32_ref>,\n",
       " <tf.Variable 'Variable_18:0' shape=(784, 256) dtype=float32_ref>,\n",
       " <tf.Variable 'Variable_19:0' shape=(256, 256) dtype=float32_ref>,\n",
       " <tf.Variable 'Variable_20:0' shape=(256, 10) dtype=float32_ref>,\n",
       " <tf.Variable 'Variable_21:0' shape=(256,) dtype=float32_ref>,\n",
       " <tf.Variable 'Variable_22:0' shape=(256,) dtype=float32_ref>,\n",
       " <tf.Variable 'Variable_23:0' shape=(10,) dtype=float32_ref>,\n",
       " <tf.Variable 'Variable_24:0' shape=(784, 256) dtype=float32_ref>,\n",
       " <tf.Variable 'Variable_25:0' shape=(256, 256) dtype=float32_ref>,\n",
       " <tf.Variable 'Variable_26:0' shape=(256, 10) dtype=float32_ref>,\n",
       " <tf.Variable 'Variable_27:0' shape=(256,) dtype=float32_ref>,\n",
       " <tf.Variable 'Variable_28:0' shape=(256,) dtype=float32_ref>,\n",
       " <tf.Variable 'Variable_29:0' shape=(10,) dtype=float32_ref>,\n",
       " <tf.Variable 'Variable_30:0' shape=(784, 256) dtype=float32_ref>,\n",
       " <tf.Variable 'Variable_31:0' shape=(256, 256) dtype=float32_ref>,\n",
       " <tf.Variable 'Variable_32:0' shape=(256, 10) dtype=float32_ref>,\n",
       " <tf.Variable 'Variable_33:0' shape=(256,) dtype=float32_ref>,\n",
       " <tf.Variable 'Variable_34:0' shape=(256,) dtype=float32_ref>,\n",
       " <tf.Variable 'Variable_35:0' shape=(10,) dtype=float32_ref>]"
      ]
     },
     "execution_count": 145,
     "metadata": {},
     "output_type": "execute_result"
    }
   ],
   "source": [
    "tf.trainable_variables()"
   ]
  },
  {
   "cell_type": "code",
   "execution_count": 146,
   "metadata": {},
   "outputs": [
    {
     "data": {
      "image/png": "[encoded data removed]",
      "text/plain": [
       "<Figure size 432x288 with 1 Axes>"
      ]
     },
     "metadata": {
      "needs_background": "light"
     },
     "output_type": "display_data"
    }
   ],
   "source": [
    "a = []\n",
    "b= []\n",
    "for i in range(25):\n",
    "    a.append(i)\n",
    "    c,_ = sess.run([cost,optimize],feed_dict={x:mnist.train.images,y:mnist.train.labels})\n",
    "    b.append(c)\n",
    "\n",
    "plt.plot(a,b)\n",
    "plt.xlabel('ITERATION NUMBER')\n",
    "plt.ylabel('AVERAGE COST')\n",
    "plt.title('Model Training - Gradient Descent (Learning Rate = 0.01)')\n",
    "plt.savefig('fig1.jpg')"
   ]
  },
  {
   "cell_type": "code",
   "execution_count": 147,
   "metadata": {},
   "outputs": [
    {
     "data": {
      "text/plain": [
       "8762"
      ]
     },
     "execution_count": 147,
     "metadata": {},
     "output_type": "execute_result"
    }
   ],
   "source": [
    "predictions = tf.argmax(pred,1)\n",
    "true_labels = tf.argmax(y,1)\n",
    "correct_predictions = tf.equal(predictions,true_labels)\n",
    "predictions, correct_predictions = sess.run([predictions,correct_predictions],feed_dict={x:mnist.test.images,y:mnist.test.labels})\n",
    "correct_predictions.sum()\n",
    "\n",
    "# accuracy improved to nearly 85%"
   ]
  },
  {
   "cell_type": "code",
   "execution_count": 148,
   "metadata": {},
   "outputs": [
    {
     "data": {
      "image/png": "[encoded data removed]",
      "text/plain": [
       "<Figure size 432x288 with 1 Axes>"
      ]
     },
     "metadata": {
      "needs_background": "light"
     },
     "output_type": "display_data"
    }
   ],
   "source": [
    "# Batch gradient descent\n",
    "# batch size = 100\n",
    "# total images = 55000\n",
    "# so, we have 550 batches\n",
    "\n",
    "batch_size = 100\n",
    "\n",
    "a =[]\n",
    "b =[]\n",
    "\n",
    "for i in range(25):\n",
    "    a.append(i)\n",
    "    num_batches = int(mnist.train.num_examples/batch_size)\n",
    "    total_cost = 0\n",
    "    for j in range(num_batches):\n",
    "        batch_x,batch_y = mnist.train.next_batch(batch_size)\n",
    "        c,_=sess.run([cost,optimize],feed_dict={x:batch_x,y:batch_y})\n",
    "        total_cost+=c\n",
    "    b.append(total_cost)\n",
    "    \n",
    "plt.plot(a,b)\n",
    "plt.xlabel('ITERATION NUMBER')\n",
    "plt.ylabel('TOTAL COST')\n",
    "plt.title('Model Training - Batch Gradient Descent (Learning Rate = 0.01)')\n",
    "plt.savefig('fig2.jpg')"
   ]
  },
  {
   "cell_type": "code",
   "execution_count": 149,
   "metadata": {},
   "outputs": [
    {
     "data": {
      "text/plain": [
       "9681"
      ]
     },
     "execution_count": 149,
     "metadata": {},
     "output_type": "execute_result"
    }
   ],
   "source": [
    "predictions = tf.argmax(pred,1)\n",
    "true_labels = tf.argmax(y,1)\n",
    "correct_predictions = tf.equal(predictions,true_labels)\n",
    "predictions, correct_predictions = sess.run([predictions,correct_predictions],feed_dict={x:mnist.test.images,y:mnist.test.labels})\n",
    "correct_predictions.sum()\n",
    "\n",
    "# number of correct predictions improved\n",
    "# 96% accuracy by doing batch updates"
   ]
  }
 ],
 "metadata": {
  "kernelspec": {
   "display_name": "Python 3",
   "language": "python",
   "name": "python3"
  },
  "language_info": {
   "codemirror_mode": {
    "name": "ipython",
    "version": 3
   },
   "file_extension": ".py",
   "mimetype": "text/x-python",
   "name": "python",
   "nbconvert_exporter": "python",
   "pygments_lexer": "ipython3",
   "version": "3.7.4"
  }
 },
 "nbformat": 4,
 "nbformat_minor": 4
}
